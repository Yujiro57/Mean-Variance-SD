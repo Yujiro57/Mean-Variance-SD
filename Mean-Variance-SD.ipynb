{
 "cells": [
  {
   "cell_type": "code",
   "execution_count": 19,
   "metadata": {},
   "outputs": [],
   "source": [
    "import numpy as np\n",
    "import pandas as pd"
   ]
  },
  {
   "cell_type": "code",
   "execution_count": 23,
   "metadata": {},
   "outputs": [],
   "source": [
    "list = [2, 4, 5, 8, 17, 9, 6, 25, 16]"
   ]
  },
  {
   "cell_type": "code",
   "execution_count": 24,
   "metadata": {},
   "outputs": [
    {
     "data": {
      "text/plain": [
       "[2, 4, 5, 8, 17, 9, 6, 25, 16]"
      ]
     },
     "execution_count": 24,
     "metadata": {},
     "output_type": "execute_result"
    }
   ],
   "source": [
    "list"
   ]
  },
  {
   "cell_type": "code",
   "execution_count": 25,
   "metadata": {},
   "outputs": [],
   "source": [
    "array = np.array(list). reshape(3,3)"
   ]
  },
  {
   "cell_type": "code",
   "execution_count": 26,
   "metadata": {},
   "outputs": [
    {
     "data": {
      "text/plain": [
       "array([[ 2,  4,  5],\n",
       "       [ 8, 17,  9],\n",
       "       [ 6, 25, 16]])"
      ]
     },
     "execution_count": 26,
     "metadata": {},
     "output_type": "execute_result"
    }
   ],
   "source": [
    "array"
   ]
  },
  {
   "cell_type": "code",
   "execution_count": 36,
   "metadata": {},
   "outputs": [],
   "source": [
    "flattened = array.flatten()"
   ]
  },
  {
   "cell_type": "code",
   "execution_count": 37,
   "metadata": {},
   "outputs": [
    {
     "data": {
      "text/plain": [
       "array([ 2,  4,  5,  8, 17,  9,  6, 25, 16])"
      ]
     },
     "execution_count": 37,
     "metadata": {},
     "output_type": "execute_result"
    }
   ],
   "source": [
    "flattened"
   ]
  },
  {
   "cell_type": "code",
   "execution_count": 39,
   "metadata": {},
   "outputs": [],
   "source": [
    "Calculate = {\n",
    "    \"mean\":{\"axis_0\":array.mean(axis=0), \"axis_1\":array.mean(axis=1), \"flattened_array\":flattened.mean()},\n",
    "    \"variance\":{\"axis_0\":array.var(axis=0), \"axis_1\":array.var(axis=1), \"Flattened_array\":flattened.var()}, \n",
    "    \"std_dev\":{\"axis_0\":array.std(axis=0), \"axis_1\":array.std(axis=1), \"Flattened_array\":flattened.std()},\n",
    "    \"max\":{\"axis_0\":array.max(axis=0), \"axis_1\":array.max(axis=1), \"Flattened_array\":flattened.max()},\n",
    "    \"min\":{\"axis_0\":array.min(axis=0), \"axis_1\":array.min(axis=1), \"Flattened_array\":flattened.min()}, \n",
    "    \"sum\":{\"axis_0\":array.sum(axis=0), \"axis_1\":array.sum(axis=1), \"Flattened_array\":flattened.sum()}\n",
    "}"
   ]
  },
  {
   "cell_type": "code",
   "execution_count": 40,
   "metadata": {},
   "outputs": [
    {
     "data": {
      "text/plain": [
       "{'mean': {'axis_0': array([ 5.33333333, 15.33333333, 10.        ]),\n",
       "  'axis_1': array([ 3.66666667, 11.33333333, 15.66666667]),\n",
       "  'flattened_array': 10.222222222222221},\n",
       " 'variance': {'axis_0': array([ 6.22222222, 74.88888889, 20.66666667]),\n",
       "  'axis_1': array([ 1.55555556, 16.22222222, 60.22222222]),\n",
       "  'Flattened_array': 50.61728395061729},\n",
       " 'std_dev': {'axis_0': array([2.49443826, 8.65383666, 4.54606057]),\n",
       "  'axis_1': array([1.24721913, 4.02768199, 7.76029782]),\n",
       "  'Flattened_array': 7.1145824860364995},\n",
       " 'max': {'axis_0': array([ 8, 25, 16]),\n",
       "  'axis_1': array([ 5, 17, 25]),\n",
       "  'Flattened_array': 25},\n",
       " 'min': {'axis_0': array([2, 4, 5]),\n",
       "  'axis_1': array([2, 8, 6]),\n",
       "  'Flattened_array': 2},\n",
       " 'sum': {'axis_0': array([16, 46, 30]),\n",
       "  'axis_1': array([11, 34, 47]),\n",
       "  'Flattened_array': 92}}"
      ]
     },
     "execution_count": 40,
     "metadata": {},
     "output_type": "execute_result"
    }
   ],
   "source": [
    "Calculate"
   ]
  },
  {
   "cell_type": "code",
   "execution_count": null,
   "metadata": {},
   "outputs": [],
   "source": []
  }
 ],
 "metadata": {
  "kernelspec": {
   "display_name": "DataScience",
   "language": "python",
   "name": "python3"
  },
  "language_info": {
   "codemirror_mode": {
    "name": "ipython",
    "version": 3
   },
   "file_extension": ".py",
   "mimetype": "text/x-python",
   "name": "python",
   "nbconvert_exporter": "python",
   "pygments_lexer": "ipython3",
   "version": "3.12.3"
  }
 },
 "nbformat": 4,
 "nbformat_minor": 2
}
